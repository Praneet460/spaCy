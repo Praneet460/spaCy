{
 "cells": [
  {
   "cell_type": "markdown",
   "metadata": {},
   "source": [
    "## Get Started With spaCy"
   ]
  },
  {
   "cell_type": "code",
   "execution_count": 2,
   "metadata": {},
   "outputs": [],
   "source": [
    "import spacy\n",
    "nlp = spacy.load(\"en_core_web_sm\")"
   ]
  },
  {
   "cell_type": "markdown",
   "metadata": {},
   "source": [
    "### Tokenization"
   ]
  },
  {
   "cell_type": "code",
   "execution_count": 3,
   "metadata": {},
   "outputs": [
    {
     "name": "stdout",
     "output_type": "stream",
     "text": [
      "Apple\n",
      "is\n",
      "looking\n",
      "at\n",
      "buying\n",
      "U.K.\n",
      "startup\n",
      "for\n",
      "$\n",
      "1\n",
      "billion\n"
     ]
    }
   ],
   "source": [
    "text01 = \"Apple is looking at buying U.K. startup for $1 billion\"\n",
    "doc = nlp(text01)\n",
    "for token in doc:\n",
    "    print(token.text)"
   ]
  },
  {
   "cell_type": "code",
   "execution_count": 4,
   "metadata": {},
   "outputs": [
    {
     "data": {
      "text/plain": [
       "Apple"
      ]
     },
     "execution_count": 4,
     "metadata": {},
     "output_type": "execute_result"
    }
   ],
   "source": [
    "doc[0]"
   ]
  },
  {
   "cell_type": "code",
   "execution_count": 5,
   "metadata": {},
   "outputs": [],
   "source": [
    "import requests\n",
    "url = \"https://s3-ap-south-1.amazonaws.com/av-blog-media/wp-content/uploads/2017/04/04080929/Tripadvisor_hotelreviews_Shivambansal.txt\"\n",
    "r = requests.get(url)"
   ]
  },
  {
   "cell_type": "code",
   "execution_count": 6,
   "metadata": {},
   "outputs": [],
   "source": [
    "from bs4 import BeautifulSoup\n",
    "soup = BeautifulSoup(r.text, 'lxml')"
   ]
  },
  {
   "cell_type": "code",
   "execution_count": 16,
   "metadata": {},
   "outputs": [],
   "source": [
    "text02 = soup.find('p').text\n",
    "doc01 = nlp(text02)"
   ]
  },
  {
   "cell_type": "code",
   "execution_count": 21,
   "metadata": {},
   "outputs": [
    {
     "name": "stdout",
     "output_type": "stream",
     "text": [
      "No. of sentences: 3655\n"
     ]
    }
   ],
   "source": [
    "# List of sentences\n",
    "sent_doc01 = list(doc01.sents)\n",
    "print(\"No. of sentences:\",len(sent_doc01))"
   ]
  },
  {
   "cell_type": "code",
   "execution_count": 22,
   "metadata": {},
   "outputs": [],
   "source": [
    "# Tokenize text02\n",
    "tokens02 = []\n",
    "for token in doc01:\n",
    "    tokens02.append(token.text)"
   ]
  },
  {
   "cell_type": "code",
   "execution_count": 25,
   "metadata": {},
   "outputs": [
    {
     "name": "stdout",
     "output_type": "stream",
     "text": [
      "No. of tokens: 61466\n"
     ]
    }
   ],
   "source": [
    "print(\"No. of tokens:\",len(tokens02))"
   ]
  },
  {
   "cell_type": "markdown",
   "metadata": {},
   "source": [
    "### POS"
   ]
  },
  {
   "cell_type": "code",
   "execution_count": 35,
   "metadata": {},
   "outputs": [
    {
     "name": "stdout",
     "output_type": "stream",
     "text": [
      "Apple\t0\tPROPN\tnsubj\n",
      "is\t6\tVERB\taux\n",
      "looking\t9\tVERB\tROOT\n",
      "at\t17\tADP\tprep\n",
      "buying\t20\tVERB\tpcomp\n",
      "U.K.\t27\tPROPN\tcompound\n",
      "startup\t32\tNOUN\tdobj\n",
      "for\t40\tADP\tprep\n",
      "$\t44\tSYM\tquantmod\n",
      "1\t45\tNUM\tcompound\n",
      "billion\t47\tNUM\tpobj\n"
     ]
    }
   ],
   "source": [
    "for token in doc:\n",
    "    print(\"{0}\\t{1}\\t{2}\\t{3}\".format(\n",
    "    token.text, token.idx, token.pos_, token.dep_))"
   ]
  },
  {
   "cell_type": "code",
   "execution_count": 36,
   "metadata": {},
   "outputs": [],
   "source": [
    "text02_idx = []\n",
    "text02_pos = []\n",
    "text02_dep = []\n",
    "for token in doc01:\n",
    "    text02_idx.append(token.idx)\n",
    "    text02_pos.append(token.pos_)\n",
    "    text02_dep.append(token.dep_)\n",
    "    "
   ]
  },
  {
   "cell_type": "code",
   "execution_count": 38,
   "metadata": {},
   "outputs": [],
   "source": [
    "import pandas as pd\n",
    "\n",
    "text02_summary = pd.DataFrame({\n",
    "    'tokens': tokens02,\n",
    "    'index' : text02_idx,\n",
    "    'pos' : text02_pos,\n",
    "    'dep' : text02_dep\n",
    "})\n"
   ]
  },
  {
   "cell_type": "markdown",
   "metadata": {},
   "source": [
    "### POS and dependencies"
   ]
  },
  {
   "cell_type": "code",
   "execution_count": 42,
   "metadata": {},
   "outputs": [
    {
     "name": "stdout",
     "output_type": "stream",
     "text": [
      "Apple\tapple\tNNP\tXxxxx\tTrue\tFalse\n",
      "is\tbe\tVBZ\txx\tTrue\tTrue\n",
      "looking\tlook\tVBG\txxxx\tTrue\tFalse\n",
      "at\tat\tIN\txx\tTrue\tTrue\n",
      "buying\tbuy\tVBG\txxxx\tTrue\tFalse\n",
      "U.K.\tu.k.\tNNP\tX.X.\tFalse\tFalse\n",
      "startup\tstartup\tNN\txxxx\tTrue\tFalse\n",
      "for\tfor\tIN\txxx\tTrue\tTrue\n",
      "$\t$\t$\t$\tFalse\tFalse\n",
      "1\t1\tCD\td\tFalse\tFalse\n",
      "billion\tbillion\tCD\txxxx\tTrue\tFalse\n"
     ]
    }
   ],
   "source": [
    "for token in doc:\n",
    "    print(\"{0}\\t{1}\\t{2}\\t{3}\\t{4}\\t{5}\".format(\n",
    "    token.text, token.lemma_, token.tag_,\n",
    "     token.shape_, token.is_alpha, token.is_stop))"
   ]
  },
  {
   "cell_type": "code",
   "execution_count": 44,
   "metadata": {},
   "outputs": [
    {
     "data": {
      "text/plain": [
       "'verb, 3rd person singular present'"
      ]
     },
     "execution_count": 44,
     "metadata": {},
     "output_type": "execute_result"
    }
   ],
   "source": [
    "spacy.explain(\"VBZ\")"
   ]
  },
  {
   "cell_type": "markdown",
   "metadata": {},
   "source": [
    "### Named Entity"
   ]
  },
  {
   "cell_type": "code",
   "execution_count": null,
   "metadata": {},
   "outputs": [],
   "source": [
    "for ent in doc.ents:\n",
    "    print(\"{0}\\t{1}\\t{2}\\t{3}\".format(ent.text, ent.start_char, ent.end_char, ent.label_))"
   ]
  },
  {
   "cell_type": "code",
   "execution_count": null,
   "metadata": {},
   "outputs": [],
   "source": []
  }
 ],
 "metadata": {
  "kernelspec": {
   "display_name": "Python 3",
   "language": "python",
   "name": "python3"
  },
  "language_info": {
   "codemirror_mode": {
    "name": "ipython",
    "version": 3
   },
   "file_extension": ".py",
   "mimetype": "text/x-python",
   "name": "python",
   "nbconvert_exporter": "python",
   "pygments_lexer": "ipython3",
   "version": "3.6.3"
  }
 },
 "nbformat": 4,
 "nbformat_minor": 2
}
