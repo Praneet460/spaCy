{
 "cells": [
  {
   "cell_type": "markdown",
   "metadata": {},
   "source": [
    "## Machine Learning with text using Spacy"
   ]
  },
  {
   "cell_type": "code",
   "execution_count": 1,
   "metadata": {},
   "outputs": [],
   "source": [
    "from sklearn.feature_extraction.stop_words import ENGLISH_STOP_WORDS as stopwords\n",
    "from sklearn.feature_extraction.text import CountVectorizer\n",
    "from sklearn.metrics import accuracy_score\n",
    "from sklearn.base import TransformerMixin\n",
    "from sklearn.pipeline import Pipeline\n",
    "from sklearn.svm import LinearSVC"
   ]
  },
  {
   "cell_type": "code",
   "execution_count": 2,
   "metadata": {},
   "outputs": [],
   "source": [
    "import string \n",
    "punctuations = string.punctuation"
   ]
  },
  {
   "cell_type": "code",
   "execution_count": 4,
   "metadata": {},
   "outputs": [],
   "source": [
    "import spacy\n",
    "parser = spacy.load(\"en_core_web_sm\")"
   ]
  },
  {
   "cell_type": "code",
   "execution_count": 5,
   "metadata": {},
   "outputs": [],
   "source": [
    "# Custom transformer using spacy\n",
    "class predictors(TransformerMixin):\n",
    "    def transform(self, X, **transform_params):\n",
    "        return[clean_text(text) for text in X]\n",
    "    def fit(self, X, y = None, **fit_params):\n",
    "        return self\n",
    "    def get_params(self, deep=True):\n",
    "        return {}"
   ]
  },
  {
   "cell_type": "code",
   "execution_count": 6,
   "metadata": {},
   "outputs": [],
   "source": [
    "# Basic utility function to clean the text\n",
    "def clean_text(text):\n",
    "    return text.strip().lower()"
   ]
  },
  {
   "cell_type": "code",
   "execution_count": 8,
   "metadata": {},
   "outputs": [],
   "source": [
    "# Create spacy tokenizer that parses a sentence andd generates tokens\n",
    "\n",
    "def spacy_tokenizer(sentence):\n",
    "    tokens = parser(sentence)\n",
    "    tokens = [tok.lemma_.lower().strip() if tok.lemma_ != \"-PRON-\" else tok.lower_ for tok in tokens]\n",
    "    tokens = [tok for tok in tokens if (tok not in stopwords and tok not in punctuations)]\n",
    "    return tokens"
   ]
  },
  {
   "cell_type": "code",
   "execution_count": 9,
   "metadata": {},
   "outputs": [],
   "source": [
    "# Create vectorizer object to generate feature vectors, we will use custom spacy's tokenizer\n",
    "\n",
    "vectorizer = CountVectorizer(tokenizer = spacy_tokenizer, ngram_range=(1,1)) \n",
    "classifier = LinearSVC()"
   ]
  },
  {
   "cell_type": "code",
   "execution_count": 10,
   "metadata": {},
   "outputs": [],
   "source": [
    "# Create the pipeline to clean, tokenize, vectorize, and classify\n",
    "\n",
    "pipe = Pipeline([(\"cleaner\", predictors()),\n",
    "                 ('vectorizer',vectorizer),\n",
    "                ('classifier', classifier)])"
   ]
  },
  {
   "cell_type": "code",
   "execution_count": 11,
   "metadata": {},
   "outputs": [],
   "source": [
    "# Load Sample Data\n",
    "train = [('I love this sandwich.', 'pos'),\n",
    "        ('this is an amazing place!', 'pos'),\n",
    "        ('I feel very good about these beers.', 'pos'),\n",
    "        ('this is my best work.', 'pos'),\n",
    "        (\"what an awesome view\", 'pos'),\n",
    "        (\"I do not like ehis restaurant\", 'neg'),\n",
    "        ('I am tired of this stuff', 'neg'),\n",
    "        (\"I an't deal with this\", 'neg'),\n",
    "        ('he is my sworn enemy!', 'neg'),\n",
    "        ('my boss is horrible.','neg')]"
   ]
  },
  {
   "cell_type": "code",
   "execution_count": 12,
   "metadata": {},
   "outputs": [],
   "source": [
    "test = [('the beer was good', 'pos'),\n",
    "       ('I do not emjoy my job', 'neg'),\n",
    "       (\"I ain't feeling dandy today.\", 'neg'),\n",
    "       (\"I feel amazing!\", 'pos'),\n",
    "       ('Gary is a good friend of mine', 'pos'),\n",
    "       (\"I can't believe I'm doing this\", 'neg')]"
   ]
  },
  {
   "cell_type": "code",
   "execution_count": 17,
   "metadata": {},
   "outputs": [
    {
     "name": "stdout",
     "output_type": "stream",
     "text": [
      "('the beer was good', 'pos') pos\n",
      "('I do not emjoy my job', 'neg') neg\n",
      "(\"I ain't feeling dandy today.\", 'neg') pos\n",
      "('I feel amazing!', 'pos') pos\n",
      "('Gary is a good friend of mine', 'pos') pos\n",
      "(\"I can't believe I'm doing this\", 'neg') neg\n",
      "Accuracy: 0.8333333333333334\n"
     ]
    }
   ],
   "source": [
    "# Create model and measure accuracy\n",
    "\n",
    "pipe.fit([x[0] for x in train], [x[1] for x in train])\n",
    "pred_data = pipe.predict([x[0] for x in test])\n",
    "for (sample, pred) in zip(test, pred_data):\n",
    "    print (sample, pred)\n",
    "print (\"Accuracy:\", accuracy_score([x[1] for x in test], pred_data))"
   ]
  },
  {
   "cell_type": "code",
   "execution_count": null,
   "metadata": {},
   "outputs": [],
   "source": []
  }
 ],
 "metadata": {
  "kernelspec": {
   "display_name": "Python 3",
   "language": "python",
   "name": "python3"
  },
  "language_info": {
   "codemirror_mode": {
    "name": "ipython",
    "version": 3
   },
   "file_extension": ".py",
   "mimetype": "text/x-python",
   "name": "python",
   "nbconvert_exporter": "python",
   "pygments_lexer": "ipython3",
   "version": "3.6.3"
  }
 },
 "nbformat": 4,
 "nbformat_minor": 2
}
